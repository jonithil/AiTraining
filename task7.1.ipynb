{
 "cells": [
  {
   "cell_type": "code",
   "execution_count": 45,
   "metadata": {},
   "outputs": [],
   "source": [
    "import pandas as pd\n",
    "import numpy as np\n",
    "from tensorflow.keras.models import Sequential\n",
    "from tensorflow.keras.layers import Conv1D, MaxPooling1D, Flatten, Dense, Dropout, BatchNormalization\n",
    "from tensorflow.keras.utils import to_categorical\n",
    "import psycopg2\n",
    "from psycopg2 import sql"
   ]
  },
  {
   "cell_type": "code",
   "execution_count": 5,
   "metadata": {},
   "outputs": [],
   "source": [
    "db_params={'dbname':'suraj',\n",
    "                      'user':'postgres',\n",
    "                      'password':'Tranzmeo1@#',\n",
    "                      'host':'localhost',\n",
    "                      'port':'5432'\n",
    "}"
   ]
  },
  {
   "cell_type": "code",
   "execution_count": null,
   "metadata": {},
   "outputs": [],
   "source": [
    "conn=psycopg2.connect(**db_params)\n",
    "cursor=conn.cursor()\n",
    "select_query=\"select * from transposed_df;\"\n",
    "df=pd.read_sql(select_query,conn)\n",
    "df"
   ]
  },
  {
   "cell_type": "code",
   "execution_count": 34,
   "metadata": {},
   "outputs": [],
   "source": [
    "df=df.drop('Unnamed: 0',axis=1)"
   ]
  },
  {
   "cell_type": "code",
   "execution_count": 35,
   "metadata": {},
   "outputs": [],
   "source": [
    "X=df.iloc[:,:100]\n",
    "y=df.iloc[:,-1]"
   ]
  },
  {
   "cell_type": "code",
   "execution_count": 36,
   "metadata": {},
   "outputs": [],
   "source": [
    "from sklearn.preprocessing import MinMaxScaler\n",
    "scaler=MinMaxScaler()\n",
    "X=scaler.fit_transform(X)"
   ]
  },
  {
   "cell_type": "code",
   "execution_count": 37,
   "metadata": {},
   "outputs": [],
   "source": [
    "from sklearn.preprocessing import LabelEncoder\n",
    "en=LabelEncoder()\n",
    "y=en.fit_transform(y)\n",
    "y=to_categorical(y)"
   ]
  },
  {
   "cell_type": "code",
   "execution_count": 38,
   "metadata": {},
   "outputs": [],
   "source": [
    "X=X.reshape(X.shape[0],X.shape[1],1)"
   ]
  },
  {
   "cell_type": "code",
   "execution_count": 39,
   "metadata": {},
   "outputs": [],
   "source": [
    "from sklearn.model_selection import train_test_split\n",
    "X_train,X_test,y_train,y_test=train_test_split(X,y,test_size=0.2,random_state=1) "
   ]
  },
  {
   "cell_type": "code",
   "execution_count": 40,
   "metadata": {},
   "outputs": [],
   "source": [
    "model = Sequential([\n",
    "    Conv1D(filters=64, kernel_size=3, activation='relu', input_shape=(X.shape[1], 1)),\n",
    "    MaxPooling1D(pool_size=2),\n",
    "    Conv1D(filters=128, kernel_size=3, activation='relu'),\n",
    "    MaxPooling1D(pool_size=2),\n",
    "    Flatten(),\n",
    "    Dense(128, activation='relu'),\n",
    "    Dropout(0.5),\n",
    "    Dense(y.shape[1], activation='softmax') \n",
    "])"
   ]
  },
  {
   "cell_type": "code",
   "execution_count": 41,
   "metadata": {},
   "outputs": [],
   "source": [
    "model.compile(optimizer='adam',loss='categorical_crossentropy',metrics=['accuracy'])"
   ]
  },
  {
   "cell_type": "code",
   "execution_count": 42,
   "metadata": {},
   "outputs": [
    {
     "name": "stdout",
     "output_type": "stream",
     "text": [
      "Epoch 1/20\n",
      "65/65 [==============================] - 2s 14ms/step - loss: 0.8072 - accuracy: 0.6660 - val_loss: 0.6842 - val_accuracy: 0.7476\n",
      "Epoch 2/20\n",
      "65/65 [==============================] - 1s 11ms/step - loss: 0.6794 - accuracy: 0.7583 - val_loss: 0.6238 - val_accuracy: 0.7631\n",
      "Epoch 3/20\n",
      "65/65 [==============================] - 1s 11ms/step - loss: 0.6455 - accuracy: 0.7660 - val_loss: 0.5859 - val_accuracy: 0.8097\n",
      "Epoch 4/20\n",
      "65/65 [==============================] - 1s 11ms/step - loss: 0.6270 - accuracy: 0.7718 - val_loss: 0.5886 - val_accuracy: 0.7883\n",
      "Epoch 5/20\n",
      "65/65 [==============================] - 1s 11ms/step - loss: 0.6241 - accuracy: 0.7738 - val_loss: 0.5620 - val_accuracy: 0.8078\n",
      "Epoch 6/20\n",
      "65/65 [==============================] - 1s 11ms/step - loss: 0.6260 - accuracy: 0.7728 - val_loss: 0.5690 - val_accuracy: 0.8117\n",
      "Epoch 7/20\n",
      "65/65 [==============================] - 1s 11ms/step - loss: 0.6174 - accuracy: 0.7762 - val_loss: 0.5773 - val_accuracy: 0.8117\n",
      "Epoch 8/20\n",
      "65/65 [==============================] - 1s 11ms/step - loss: 0.6151 - accuracy: 0.7757 - val_loss: 0.5620 - val_accuracy: 0.8117\n",
      "Epoch 9/20\n",
      "65/65 [==============================] - 1s 11ms/step - loss: 0.6234 - accuracy: 0.7733 - val_loss: 0.5572 - val_accuracy: 0.8078\n",
      "Epoch 10/20\n",
      "65/65 [==============================] - 1s 11ms/step - loss: 0.6143 - accuracy: 0.7733 - val_loss: 0.5561 - val_accuracy: 0.8078\n",
      "Epoch 11/20\n",
      "65/65 [==============================] - 1s 12ms/step - loss: 0.6045 - accuracy: 0.7748 - val_loss: 0.5618 - val_accuracy: 0.8039\n",
      "Epoch 12/20\n",
      "65/65 [==============================] - 1s 11ms/step - loss: 0.6098 - accuracy: 0.7743 - val_loss: 0.5686 - val_accuracy: 0.7922\n",
      "Epoch 13/20\n",
      "65/65 [==============================] - 1s 11ms/step - loss: 0.6029 - accuracy: 0.7752 - val_loss: 0.5546 - val_accuracy: 0.8117\n",
      "Epoch 14/20\n",
      "65/65 [==============================] - 1s 11ms/step - loss: 0.6076 - accuracy: 0.7733 - val_loss: 0.5648 - val_accuracy: 0.8058\n",
      "Epoch 15/20\n",
      "65/65 [==============================] - 1s 11ms/step - loss: 0.6075 - accuracy: 0.7752 - val_loss: 0.5524 - val_accuracy: 0.8117\n",
      "Epoch 16/20\n",
      "65/65 [==============================] - 1s 11ms/step - loss: 0.6028 - accuracy: 0.7752 - val_loss: 0.5553 - val_accuracy: 0.8117\n",
      "Epoch 17/20\n",
      "65/65 [==============================] - 1s 11ms/step - loss: 0.5944 - accuracy: 0.7767 - val_loss: 0.5616 - val_accuracy: 0.8058\n",
      "Epoch 18/20\n",
      "65/65 [==============================] - 1s 13ms/step - loss: 0.6114 - accuracy: 0.7728 - val_loss: 0.5498 - val_accuracy: 0.8078\n",
      "Epoch 19/20\n",
      "65/65 [==============================] - 1s 12ms/step - loss: 0.5896 - accuracy: 0.7748 - val_loss: 0.5670 - val_accuracy: 0.8039\n",
      "Epoch 20/20\n",
      "65/65 [==============================] - 1s 11ms/step - loss: 0.6057 - accuracy: 0.7718 - val_loss: 0.5588 - val_accuracy: 0.8039\n"
     ]
    },
    {
     "data": {
      "text/plain": [
       "<keras.src.callbacks.History at 0x7c1ea5507dc0>"
      ]
     },
     "execution_count": 42,
     "metadata": {},
     "output_type": "execute_result"
    }
   ],
   "source": [
    "model.fit(X_train, y_train, epochs=20, batch_size=32, validation_data=(X_test, y_test))"
   ]
  },
  {
   "cell_type": "code",
   "execution_count": 43,
   "metadata": {},
   "outputs": [
    {
     "name": "stdout",
     "output_type": "stream",
     "text": [
      "17/17 [==============================] - 0s 3ms/step - loss: 0.5588 - accuracy: 0.8039\n"
     ]
    }
   ],
   "source": [
    "loss,accuracy=model.evaluate(X_test,y_test)"
   ]
  },
  {
   "cell_type": "code",
   "execution_count": 44,
   "metadata": {},
   "outputs": [
    {
     "name": "stdout",
     "output_type": "stream",
     "text": [
      "80.38834929466248\n"
     ]
    }
   ],
   "source": [
    "print(accuracy*100)"
   ]
  }
 ],
 "metadata": {
  "kernelspec": {
   "display_name": "Python 3",
   "language": "python",
   "name": "python3"
  },
  "language_info": {
   "codemirror_mode": {
    "name": "ipython",
    "version": 3
   },
   "file_extension": ".py",
   "mimetype": "text/x-python",
   "name": "python",
   "nbconvert_exporter": "python",
   "pygments_lexer": "ipython3",
   "version": "3.10.12"
  }
 },
 "nbformat": 4,
 "nbformat_minor": 2
}
